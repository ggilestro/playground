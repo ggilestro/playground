{
 "cells": [
  {
   "cell_type": "code",
   "execution_count": 1,
   "id": "62adc538-6fb1-4c9c-ba61-894453e9a3e8",
   "metadata": {},
   "outputs": [
    {
     "name": "stderr",
     "output_type": "stream",
     "text": [
      "/tmp/ipykernel_804025/2640739275.py:9: DeprecationWarning: Importing display from IPython.core.display is deprecated since IPython 7.14, please import from IPython display\n",
      "  from IPython.core.display import display, HTML\n"
     ]
    },
    {
     "data": {
      "text/plain": [
       "<Figure size 432x288 with 0 Axes>"
      ]
     },
     "metadata": {},
     "output_type": "display_data"
    }
   ],
   "source": [
    "from wordle_modeller import wordle_solver, formatgametohtml\n",
    "\n",
    "import seaborn as sns\n",
    "import matplotlib.pyplot as plt # for data visualization\n",
    "\n",
    "import pandas as pd\n",
    "import numpy as np\n",
    "\n",
    "from IPython.core.display import display, HTML\n",
    "\n",
    "sns.set_theme(style=\"darkgrid\")\n",
    "sns.color_palette()\n",
    "sns.despine()"
   ]
  },
  {
   "cell_type": "code",
   "execution_count": 2,
   "id": "b66ac366-36fd-4f36-b36e-7f0d5092c412",
   "metadata": {},
   "outputs": [
    {
     "name": "stdout",
     "output_type": "stream",
     "text": [
      "Loaded dictionary with 2315 words\n"
     ]
    }
   ],
   "source": [
    "#There are multiple choices available for dictionaries\n",
    "g = wordle_solver(dict_file = 'wordle_words.txt')\n",
    "#g = wordle_solver(dict_file = 'parole_words.txt')\n",
    "#g = wordle_solver(dict_file = 'full_five_letters_words.txt')"
   ]
  },
  {
   "cell_type": "markdown",
   "id": "24ecf11a-ff49-4b2f-912d-e4e8bd71a8f8",
   "metadata": {},
   "source": [
    "### Let's start with some basic frequency analysis on the wordlist"
   ]
  },
  {
   "cell_type": "code",
   "execution_count": 3,
   "id": "f5e37391-7109-4856-a44a-2d8c52dc9f87",
   "metadata": {},
   "outputs": [
    {
     "data": {
      "text/html": [
       "<div>\n",
       "<style scoped>\n",
       "    .dataframe tbody tr th:only-of-type {\n",
       "        vertical-align: middle;\n",
       "    }\n",
       "\n",
       "    .dataframe tbody tr th {\n",
       "        vertical-align: top;\n",
       "    }\n",
       "\n",
       "    .dataframe thead th {\n",
       "        text-align: right;\n",
       "    }\n",
       "</style>\n",
       "<table border=\"1\" class=\"dataframe\">\n",
       "  <thead>\n",
       "    <tr style=\"text-align: right;\">\n",
       "      <th></th>\n",
       "      <th>frequency</th>\n",
       "    </tr>\n",
       "    <tr>\n",
       "      <th>letter</th>\n",
       "      <th></th>\n",
       "    </tr>\n",
       "  </thead>\n",
       "  <tbody>\n",
       "    <tr>\n",
       "      <th>E</th>\n",
       "      <td>0.111784</td>\n",
       "    </tr>\n",
       "    <tr>\n",
       "      <th>A</th>\n",
       "      <td>0.088858</td>\n",
       "    </tr>\n",
       "    <tr>\n",
       "      <th>R</th>\n",
       "      <td>0.081981</td>\n",
       "    </tr>\n",
       "    <tr>\n",
       "      <th>O</th>\n",
       "      <td>0.068226</td>\n",
       "    </tr>\n",
       "    <tr>\n",
       "      <th>T</th>\n",
       "      <td>0.065750</td>\n",
       "    </tr>\n",
       "    <tr>\n",
       "      <th>L</th>\n",
       "      <td>0.064924</td>\n",
       "    </tr>\n",
       "    <tr>\n",
       "      <th>S</th>\n",
       "      <td>0.058964</td>\n",
       "    </tr>\n",
       "    <tr>\n",
       "      <th>N</th>\n",
       "      <td>0.052270</td>\n",
       "    </tr>\n",
       "    <tr>\n",
       "      <th>I</th>\n",
       "      <td>0.051077</td>\n",
       "    </tr>\n",
       "    <tr>\n",
       "      <th>C</th>\n",
       "      <td>0.039707</td>\n",
       "    </tr>\n",
       "    <tr>\n",
       "      <th>U</th>\n",
       "      <td>0.036680</td>\n",
       "    </tr>\n",
       "    <tr>\n",
       "      <th>D</th>\n",
       "      <td>0.035305</td>\n",
       "    </tr>\n",
       "    <tr>\n",
       "      <th>H</th>\n",
       "      <td>0.033196</td>\n",
       "    </tr>\n",
       "    <tr>\n",
       "      <th>P</th>\n",
       "      <td>0.033104</td>\n",
       "    </tr>\n",
       "    <tr>\n",
       "      <th>G</th>\n",
       "      <td>0.027694</td>\n",
       "    </tr>\n",
       "    <tr>\n",
       "      <th>M</th>\n",
       "      <td>0.027052</td>\n",
       "    </tr>\n",
       "    <tr>\n",
       "      <th>B</th>\n",
       "      <td>0.024576</td>\n",
       "    </tr>\n",
       "    <tr>\n",
       "      <th>Y</th>\n",
       "      <td>0.022742</td>\n",
       "    </tr>\n",
       "    <tr>\n",
       "      <th>F</th>\n",
       "      <td>0.019991</td>\n",
       "    </tr>\n",
       "    <tr>\n",
       "      <th>K</th>\n",
       "      <td>0.016506</td>\n",
       "    </tr>\n",
       "    <tr>\n",
       "      <th>W</th>\n",
       "      <td>0.016139</td>\n",
       "    </tr>\n",
       "    <tr>\n",
       "      <th>V</th>\n",
       "      <td>0.013572</td>\n",
       "    </tr>\n",
       "    <tr>\n",
       "      <th>X</th>\n",
       "      <td>0.003026</td>\n",
       "    </tr>\n",
       "    <tr>\n",
       "      <th>Z</th>\n",
       "      <td>0.002751</td>\n",
       "    </tr>\n",
       "    <tr>\n",
       "      <th>Q</th>\n",
       "      <td>0.002109</td>\n",
       "    </tr>\n",
       "    <tr>\n",
       "      <th>J</th>\n",
       "      <td>0.002017</td>\n",
       "    </tr>\n",
       "  </tbody>\n",
       "</table>\n",
       "</div>"
      ],
      "text/plain": [
       "        frequency\n",
       "letter           \n",
       "E        0.111784\n",
       "A        0.088858\n",
       "R        0.081981\n",
       "O        0.068226\n",
       "T        0.065750\n",
       "L        0.064924\n",
       "S        0.058964\n",
       "N        0.052270\n",
       "I        0.051077\n",
       "C        0.039707\n",
       "U        0.036680\n",
       "D        0.035305\n",
       "H        0.033196\n",
       "P        0.033104\n",
       "G        0.027694\n",
       "M        0.027052\n",
       "B        0.024576\n",
       "Y        0.022742\n",
       "F        0.019991\n",
       "K        0.016506\n",
       "W        0.016139\n",
       "V        0.013572\n",
       "X        0.003026\n",
       "Z        0.002751\n",
       "Q        0.002109\n",
       "J        0.002017"
      ]
     },
     "execution_count": 3,
     "metadata": {},
     "output_type": "execute_result"
    }
   ],
   "source": [
    "frequency, positions = g.analyse_frequency(ascount=False)\n",
    "df1 = pd.DataFrame.from_dict(frequency, orient='index', columns=['frequency'])\n",
    "df1.index.name = 'letter'\n",
    "df1.sort_values(by=['frequency'], ascending=False)"
   ]
  },
  {
   "cell_type": "code",
   "execution_count": 4,
   "id": "20fdaba8-3f47-4897-95c0-b8386242ee3d",
   "metadata": {},
   "outputs": [
    {
     "data": {
      "image/png": "[encoded data removed]",
      "text/plain": [
       "<Figure size 360x180 with 1 Axes>"
      ]
     },
     "metadata": {},
     "output_type": "display_data"
    }
   ],
   "source": [
    "#plot a sequence logo of the most frequent letters by position\n",
    "%matplotlib inline\n",
    "import seaborn\n",
    "import matplotlib.pyplot as plt\n",
    "plt.style.use('seaborn-ticks')\n",
    "from matplotlib import transforms\n",
    "import matplotlib.patheffects\n",
    "import numpy as np\n",
    "\n",
    "class Scale(matplotlib.patheffects.RendererBase):\n",
    "    def __init__(self, sx, sy=None):\n",
    "        self._sx = sx\n",
    "        self._sy = sy\n",
    "\n",
    "    def draw_path(self, renderer, gc, tpath, affine, rgbFace):\n",
    "        affine = affine.identity().scale(self._sx, self._sy)+affine\n",
    "        renderer.draw_path(gc, tpath, affine, rgbFace)\n",
    "\n",
    "fig = plt.figure()\n",
    "fig.set_size_inches(len(positions),2.5)\n",
    "ax = fig.add_subplot(111)\n",
    "ax.set_xticks(range(len(positions)))\n",
    "\n",
    "xshift = 0\n",
    "trans_offset = transforms.offset_copy(ax.transAxes, \n",
    "                                  fig=fig, \n",
    "                                  x=0, \n",
    "                                  y=0, \n",
    "                                  units='points')\n",
    "\n",
    "for pos in positions:\n",
    "    yshift = 0\n",
    "    for letter in pos:\n",
    "        freq = pos[letter]\n",
    "        if freq > 0.05:\n",
    "            txt = ax.text(0, \n",
    "                          0, \n",
    "                          letter, \n",
    "                          transform=trans_offset,\n",
    "                          fontsize=80, \n",
    "                          #color=COLOR_SCHEME[base],\n",
    "                          weight='bold',\n",
    "                          ha='center',\n",
    "                          family='sans-serif'\n",
    "                          )\n",
    "            txt.set_clip_on(False) \n",
    "            txt.set_path_effects([Scale(1.0, freq)])\n",
    "            fig.canvas.draw()\n",
    "            window_ext = txt.get_window_extent(txt._renderer)\n",
    "            yshift = window_ext.height*freq\n",
    "            trans_offset = transforms.offset_copy(txt._transform, fig=fig, y=yshift, units='points')\n",
    "    xshift += window_ext.width\n",
    "    trans_offset = transforms.offset_copy(ax.transAxes, fig=fig, x=xshift, units='points')\n",
    "\n",
    "\n",
    "ax.set_yticks(range(0,2))\n",
    "\n",
    "\n",
    "seaborn.despine(ax=ax, offset=30, trim=True)\n",
    "ax.set_xticklabels(range(1,len(positions)+1), rotation=90)\n",
    "ax.set_yticklabels(np.arange(0,2,1))\n",
    "plt.show()"
   ]
  },
  {
   "cell_type": "code",
   "execution_count": 5,
   "id": "2b202b0c-cd7b-4095-b708-5e2763474a5e",
   "metadata": {},
   "outputs": [
    {
     "data": {
      "text/plain": [
       "<AxesSubplot:title={'center':'Frequency of letters in the wordle database'}, xlabel='letter'>"
      ]
     },
     "execution_count": 5,
     "metadata": {},
     "output_type": "execute_result"
    },
    {
     "data": {
      "image/png": "[encoded data removed]",
      "text/plain": [
       "<Figure size 432x288 with 1 Axes>"
      ]
     },
     "metadata": {},
     "output_type": "display_data"
    }
   ],
   "source": [
    "df1.plot(kind=\"bar\", rot=0, title='Frequency of letters in the wordle database')#, color='#a51d2dff')"
   ]
  },
  {
   "cell_type": "code",
   "execution_count": 6,
   "id": "910f88d4-6f93-4adb-af88-126aec99d6ce",
   "metadata": {},
   "outputs": [
    {
     "data": {
      "text/plain": [
       "['LATER',\n",
       " 'ALTER',\n",
       " 'ALERT',\n",
       " 'AROSE',\n",
       " 'STARE',\n",
       " 'LEARN',\n",
       " 'RENAL',\n",
       " 'IRATE',\n",
       " 'SNARE',\n",
       " 'SANER',\n",
       " 'ARISE',\n",
       " 'RAISE',\n",
       " 'STALE',\n",
       " 'SLATE',\n",
       " 'STEAL',\n",
       " 'LEAST',\n",
       " 'REACT',\n",
       " 'CRATE',\n",
       " 'TRACE',\n",
       " 'CATER',\n",
       " 'CLEAR',\n",
       " 'ATONE',\n",
       " 'STORE',\n",
       " 'ADORE',\n",
       " 'ALONE',\n",
       " 'LOSER',\n",
       " 'OPERA',\n",
       " 'TREAD',\n",
       " 'TRADE',\n",
       " 'LEANT',\n",
       " 'HEART',\n",
       " 'HATER',\n",
       " 'EARTH',\n",
       " 'TAPER',\n",
       " 'SCARE',\n",
       " 'PALER',\n",
       " 'PEARL',\n",
       " 'TENOR',\n",
       " 'GREAT',\n",
       " 'GRATE',\n",
       " 'AISLE',\n",
       " 'TAMER',\n",
       " 'REGAL',\n",
       " 'LARGE',\n",
       " 'GLARE',\n",
       " 'LAGER',\n",
       " 'SHARE',\n",
       " 'SHEAR',\n",
       " 'SPARE',\n",
       " 'PARSE']"
      ]
     },
     "execution_count": 6,
     "metadata": {},
     "output_type": "execute_result"
    }
   ],
   "source": [
    "g.frequency_rank(limit=50)"
   ]
  },
  {
   "cell_type": "code",
   "execution_count": 7,
   "id": "14ceb0c7-476c-4da7-8a3f-d8336bc4d55b",
   "metadata": {},
   "outputs": [
    {
     "name": "stdout",
     "output_type": "stream",
     "text": [
      "{'SNARE': 65, 'total': 2315}\n",
      "{'SLEEP': 124, 'total': 2315}\n",
      "{'SLEPT': 539, 'total': 2315}\n",
      "{'TOMAS': 'not found', 'total': 2315}\n"
     ]
    }
   ],
   "source": [
    "for word in ['snare', 'sleep', 'slept', 'tomas']:\n",
    "    print ( g.check_rank(word) )"
   ]
  },
  {
   "cell_type": "markdown",
   "id": "51830c41-edb9-4fbc-98a3-b0911a10c814",
   "metadata": {},
   "source": [
    "### To visualize a single game:"
   ]
  },
  {
   "cell_type": "code",
   "execution_count": 4,
   "id": "68727094-dc7c-422f-96ce-a0406306c52e",
   "metadata": {},
   "outputs": [
    {
     "data": {
      "text/html": [
       "<html><head><link rel=\"stylesheet\" href=\"wordle.css\"><style type=\"text/css\">@font-face{font-family:Gilroy;font-style:normal;font-weight:100 400;src:url(https://pouch-global-font-assets.s3.eu-central-1.amazonaws.com/Gilroy-Medium.otf)}@font-face{font-family:Gilroy;font-style:normal;font-weight:500 900;src:url(https://pouch-global-font-assets.s3.eu-central-1.amazonaws.com/Gilroy-Bold.otf)}@font-face{font-family:\"Font Awesome 5 Free\";font-style:normal;font-weight:900;src:url(https://use.fontawesome.com/releases/v5.6.3/webfonts/fa-solid-900.woff2) format(\"woff2\")}@font-face{font-family:\"Font Awesome 5 Brands\";font-style:normal;font-weight:normal;src:url(https://use.fontawesome.com/releases/v5.6.3/webfonts/fa-brands-400.woff2) format(\"woff2\")}</style></head><body><div id=\"game\"><div id=\"board-container\"><div id=\"board\" style=\"width: 350px; height: 420px;\"><game-row letters=\"ADIEU\" length=\"5\"><div class=\"row\"><game-tile letter=\"A\" evaluation=\"absent\" reveal=\"\"><div class=\"tile\" data-state=\"absent\" data-animation=\"idle\">A</div></game-tile><game-tile letter=\"D\" evaluation=\"absent\" reveal=\"\"><div class=\"tile\" data-state=\"absent\" data-animation=\"idle\">D</div></game-tile><game-tile letter=\"I\" evaluation=\"present\" reveal=\"\"><div class=\"tile\" data-state=\"present\" data-animation=\"idle\">I</div></game-tile><game-tile letter=\"E\" evaluation=\"absent\" reveal=\"\"><div class=\"tile\" data-state=\"absent\" data-animation=\"idle\">E</div></game-tile><game-tile letter=\"U\" evaluation=\"absent\" reveal=\"\"><div class=\"tile\" data-state=\"absent\" data-animation=\"idle\">U</div></game-tile></div></game-row><game-row letters=\"THORN\" length=\"5\"><div class=\"row\"><game-tile letter=\"T\" evaluation=\"absent\" reveal=\"\"><div class=\"tile\" data-state=\"absent\" data-animation=\"idle\">T</div></game-tile><game-tile letter=\"H\" evaluation=\"present\" reveal=\"\"><div class=\"tile\" data-state=\"present\" data-animation=\"idle\">H</div></game-tile><game-tile letter=\"O\" evaluation=\"absent\" reveal=\"\"><div class=\"tile\" data-state=\"absent\" data-animation=\"idle\">O</div></game-tile><game-tile letter=\"R\" evaluation=\"absent\" reveal=\"\"><div class=\"tile\" data-state=\"absent\" data-animation=\"idle\">R</div></game-tile><game-tile letter=\"N\" evaluation=\"present\" reveal=\"\"><div class=\"tile\" data-state=\"present\" data-animation=\"idle\">N</div></game-tile></div></game-row><game-row letters=\"WINCH\" length=\"5\"><div class=\"row\"><game-tile letter=\"W\" evaluation=\"absent\" reveal=\"\"><div class=\"tile\" data-state=\"absent\" data-animation=\"idle\">W</div></game-tile><game-tile letter=\"I\" evaluation=\"correct\" reveal=\"\"><div class=\"tile\" data-state=\"correct\" data-animation=\"idle\">I</div></game-tile><game-tile letter=\"N\" evaluation=\"correct\" reveal=\"\"><div class=\"tile\" data-state=\"correct\" data-animation=\"idle\">N</div></game-tile><game-tile letter=\"C\" evaluation=\"correct\" reveal=\"\"><div class=\"tile\" data-state=\"correct\" data-animation=\"idle\">C</div></game-tile><game-tile letter=\"H\" evaluation=\"correct\" reveal=\"\"><div class=\"tile\" data-state=\"correct\" data-animation=\"idle\">H</div></game-tile></div></game-row><game-row letters=\"FINCH\" length=\"5\"><div class=\"row\"><game-tile letter=\"F\" evaluation=\"absent\" reveal=\"\"><div class=\"tile\" data-state=\"absent\" data-animation=\"idle\">F</div></game-tile><game-tile letter=\"I\" evaluation=\"correct\" reveal=\"\"><div class=\"tile\" data-state=\"correct\" data-animation=\"idle\">I</div></game-tile><game-tile letter=\"N\" evaluation=\"correct\" reveal=\"\"><div class=\"tile\" data-state=\"correct\" data-animation=\"idle\">N</div></game-tile><game-tile letter=\"C\" evaluation=\"correct\" reveal=\"\"><div class=\"tile\" data-state=\"correct\" data-animation=\"idle\">C</div></game-tile><game-tile letter=\"H\" evaluation=\"correct\" reveal=\"\"><div class=\"tile\" data-state=\"correct\" data-animation=\"idle\">H</div></game-tile></div></game-row><game-row letters=\"CINCH\" length=\"5\"><div class=\"row\"><game-tile letter=\"C\" evaluation=\"correct\" reveal=\"\"><div class=\"tile\" data-state=\"correct\" data-animation=\"idle\">C</div></game-tile><game-tile letter=\"I\" evaluation=\"correct\" reveal=\"\"><div class=\"tile\" data-state=\"correct\" data-animation=\"idle\">I</div></game-tile><game-tile letter=\"N\" evaluation=\"correct\" reveal=\"\"><div class=\"tile\" data-state=\"correct\" data-animation=\"idle\">N</div></game-tile><game-tile letter=\"C\" evaluation=\"correct\" reveal=\"\"><div class=\"tile\" data-state=\"correct\" data-animation=\"idle\">C</div></game-tile><game-tile letter=\"H\" evaluation=\"correct\" reveal=\"\"><div class=\"tile\" data-state=\"correct\" data-animation=\"idle\">H</div></game-tile></div></game-row></div></div></div></body></html><body>"
      ],
      "text/plain": [
       "<IPython.core.display.HTML object>"
      ]
     },
     "metadata": {},
     "output_type": "display_data"
    },
    {
     "data": {
      "text/plain": [
       "[('ADIEU', '__i__'),\n",
       " ('THORN', '_h__n'),\n",
       " ('WINCH', '_INCH'),\n",
       " ('FINCH', '_INCH'),\n",
       " ('CINCH', 'CINCH')]"
      ]
     },
     "execution_count": 4,
     "metadata": {},
     "output_type": "execute_result"
    }
   ],
   "source": [
    "r = g.solve(use_smart=True, exclude=1, start_with='adieu')\n",
    "#the graphical visualization requires CSS and will not work on github\n",
    "display(HTML(formatgametohtml(r['game'])))\n",
    "r['game']"
   ]
  },
  {
   "cell_type": "markdown",
   "id": "c251045a-609c-4a0f-8b7b-6a0ea72f460a",
   "metadata": {
    "tags": []
   },
   "source": [
    "### To solve a game follow this protocol"
   ]
  },
  {
   "cell_type": "code",
   "execution_count": 3,
   "id": "0ace36c8-d7da-4133-b5c0-40c97bc6d8af",
   "metadata": {},
   "outputs": [
    {
     "data": {
      "text/plain": [
       "'POWER'"
      ]
     },
     "execution_count": 3,
     "metadata": {},
     "output_type": "execute_result"
    }
   ],
   "source": [
    "#start word can be totally random\n",
    "word, _ = g.pick_random_word()\n",
    "word"
   ]
  },
  {
   "cell_type": "code",
   "execution_count": 8,
   "id": "c566a16a-2942-4768-af59-29d09276ab3f",
   "metadata": {},
   "outputs": [
    {
     "data": {
      "text/plain": [
       "'SNARE'"
      ]
     },
     "execution_count": 8,
     "metadata": {},
     "output_type": "execute_result"
    }
   ],
   "source": [
    "#or get one from the smart set if you prefer\n",
    "g.pick_smart_word()"
   ]
  },
  {
   "cell_type": "code",
   "execution_count": 11,
   "id": "64cb8e67-16de-4205-9003-4a9f51431991",
   "metadata": {},
   "outputs": [
    {
     "name": "stdout",
     "output_type": "stream",
     "text": [
      "['SHARD', 'SHARP']\n",
      "SHARD\n"
     ]
    }
   ],
   "source": [
    "#enter the word in the game and fill the requirements for the next word based on the result\n",
    "word, possibilities_left = g.pick_random_word(has_letters=\"SAR\", hasnot_letters=\"NEK\", pattern=\"SHAR_\")\n",
    "\n",
    "#the system returns a list of all the words that match those criteria\n",
    "print (possibilities_left)\n",
    "\n",
    "#and from that list picks a random word for you\n",
    "print (word)"
   ]
  },
  {
   "cell_type": "code",
   "execution_count": 10,
   "id": "85ab8775-216e-4596-9692-7b48a5719adb",
   "metadata": {},
   "outputs": [
    {
     "data": {
      "text/plain": [
       "['SHARK',\n",
       " 'STARK',\n",
       " 'SMART',\n",
       " 'SHARD',\n",
       " 'SHARP',\n",
       " 'SPARK',\n",
       " 'SCARF',\n",
       " 'SCARY',\n",
       " 'SWARM']"
      ]
     },
     "execution_count": 10,
     "metadata": {},
     "output_type": "execute_result"
    }
   ],
   "source": [
    "g.frequency_rank(possibilities_left, limit=10)"
   ]
  },
  {
   "cell_type": "markdown",
   "id": "dfb31564-e82c-42b2-9e37-1cd71e17c311",
   "metadata": {
    "tags": []
   },
   "source": [
    "### Let's start solving to compare strategies"
   ]
  },
  {
   "cell_type": "code",
   "execution_count": 9,
   "id": "5d7d4329-351c-425d-b9a4-bc3f42d219ab",
   "metadata": {},
   "outputs": [
    {
     "name": "stdout",
     "output_type": "stream",
     "text": [
      "Game # 9999, word JUMBO, solved in:7 \r"
     ]
    },
    {
     "data": {
      "text/plain": [
       "0.0027"
      ]
     },
     "execution_count": 9,
     "metadata": {},
     "output_type": "execute_result"
    }
   ],
   "source": [
    "#stupid mode - just random words with no rationale\n",
    "r0 = g.solve_many(use_smart=False, stupid_mode=True, N_GAMES=10000, exclude=0)\n",
    "r0['success_rate']"
   ]
  },
  {
   "cell_type": "code",
   "execution_count": 27,
   "id": "a11d5cc8-08d9-42b4-95b5-f14a451592fb",
   "metadata": {},
   "outputs": [],
   "source": [
    "#do you want to try performance on today's word? If yes, put it here. Otherwise for general performance set to None\n",
    "guess_word = None\n",
    "\n",
    "#do you want to try performance with a given starting word?\n",
    "start_with = 'ADIEU'"
   ]
  },
  {
   "cell_type": "code",
   "execution_count": 28,
   "id": "29a3f9ca-e869-4938-97d1-e50e1a434fe0",
   "metadata": {},
   "outputs": [
    {
     "name": "stdout",
     "output_type": "stream",
     "text": [
      "Game # 999, word MOVER, solved in:5 \r"
     ]
    }
   ],
   "source": [
    "r1 = g.solve_many(guess_word=guess_word, start_with=start_with, use_smart=False, N_GAMES=1000, exclude=0)"
   ]
  },
  {
   "cell_type": "code",
   "execution_count": 29,
   "id": "9ceaf35e-bdda-4ea9-86ca-5820c73f91ec",
   "metadata": {},
   "outputs": [
    {
     "name": "stdout",
     "output_type": "stream",
     "text": [
      "Game # 999, word FREER, solved in:3 \r"
     ]
    }
   ],
   "source": [
    "r2 = g.solve_many(guess_word=guess_word, start_with=start_with, use_smart=True, N_GAMES=1000, exclude=0)"
   ]
  },
  {
   "cell_type": "code",
   "execution_count": 30,
   "id": "a85c3c45-05d7-40c9-81d1-4534cbe43b1b",
   "metadata": {},
   "outputs": [
    {
     "name": "stdout",
     "output_type": "stream",
     "text": [
      "Game # 999, word FILMY, solved in:5 \r"
     ]
    }
   ],
   "source": [
    "r3 = g.solve_many(guess_word=guess_word, start_with=start_with, use_smart=True, N_GAMES=1000, exclude=1)"
   ]
  },
  {
   "cell_type": "code",
   "execution_count": 31,
   "id": "65fe1ce9-b6d5-41c6-a531-0c4d0ed8d8e9",
   "metadata": {},
   "outputs": [
    {
     "name": "stdout",
     "output_type": "stream",
     "text": [
      "Game # 999, word THOSE, solved in:6 \r"
     ]
    }
   ],
   "source": [
    "r4 = g.solve_many(guess_word=guess_word, start_with=start_with, use_smart=True, N_GAMES=1000, exclude=2)"
   ]
  },
  {
   "cell_type": "code",
   "execution_count": 32,
   "id": "6ef5b796-c8bd-4787-85f4-60148682e391",
   "metadata": {},
   "outputs": [],
   "source": [
    "df1 = pd.DataFrame(data=r1['profile'])\n",
    "df1.index.name = 'game'\n",
    "df1.columns = ['success']\n",
    "df1['use_smart'] = False\n",
    "df1['exclude'] = 0\n",
    "df1['strategy'] = 'No smart start, no exclusion'"
   ]
  },
  {
   "cell_type": "code",
   "execution_count": 33,
   "id": "182d901e-3de5-4f96-bcc2-92b9fb7d954b",
   "metadata": {},
   "outputs": [],
   "source": [
    "df2 = pd.DataFrame(data=r2['profile'])\n",
    "df2.index.name = 'game'\n",
    "df2.columns = ['success']\n",
    "df2['use_smart'] = True\n",
    "df2['exclude'] = 0\n",
    "df2['strategy'] = 'Smart start, no exclusion'"
   ]
  },
  {
   "cell_type": "code",
   "execution_count": 34,
   "id": "88bb253e-ec38-4f35-abcb-4450e99ee0d5",
   "metadata": {},
   "outputs": [],
   "source": [
    "df3 = pd.DataFrame(data=r3['profile'])\n",
    "df3.index.name = 'game'\n",
    "df3.columns = ['success']\n",
    "df3['use_smart'] = True\n",
    "df3['exclude'] = 1\n",
    "df3['strategy'] = 'Smart start, 1 exclusion'"
   ]
  },
  {
   "cell_type": "code",
   "execution_count": 35,
   "id": "e1ace571-7a7f-4656-9644-a38da5b85200",
   "metadata": {},
   "outputs": [],
   "source": [
    "df4 = pd.DataFrame(data=r4['profile'])\n",
    "df4.index.name = 'game'\n",
    "df4.columns = ['success']\n",
    "df4['use_smart'] = True\n",
    "df4['exclude'] = 2\n",
    "df4['strategy'] = 'Smart start, 2 exclusions'"
   ]
  },
  {
   "cell_type": "code",
   "execution_count": 36,
   "id": "f83a4cff-23eb-40cd-8938-31d65f365884",
   "metadata": {},
   "outputs": [
    {
     "data": {
      "text/html": [
       "<div>\n",
       "<style scoped>\n",
       "    .dataframe tbody tr th:only-of-type {\n",
       "        vertical-align: middle;\n",
       "    }\n",
       "\n",
       "    .dataframe tbody tr th {\n",
       "        vertical-align: top;\n",
       "    }\n",
       "\n",
       "    .dataframe thead th {\n",
       "        text-align: right;\n",
       "    }\n",
       "</style>\n",
       "<table border=\"1\" class=\"dataframe\">\n",
       "  <thead>\n",
       "    <tr style=\"text-align: right;\">\n",
       "      <th></th>\n",
       "      <th>success</th>\n",
       "      <th>use_smart</th>\n",
       "      <th>exclude</th>\n",
       "      <th>strategy</th>\n",
       "    </tr>\n",
       "  </thead>\n",
       "  <tbody>\n",
       "    <tr>\n",
       "      <th>0</th>\n",
       "      <td>4</td>\n",
       "      <td>False</td>\n",
       "      <td>0</td>\n",
       "      <td>No smart start, no exclusion</td>\n",
       "    </tr>\n",
       "    <tr>\n",
       "      <th>1</th>\n",
       "      <td>3</td>\n",
       "      <td>False</td>\n",
       "      <td>0</td>\n",
       "      <td>No smart start, no exclusion</td>\n",
       "    </tr>\n",
       "    <tr>\n",
       "      <th>2</th>\n",
       "      <td>4</td>\n",
       "      <td>False</td>\n",
       "      <td>0</td>\n",
       "      <td>No smart start, no exclusion</td>\n",
       "    </tr>\n",
       "    <tr>\n",
       "      <th>3</th>\n",
       "      <td>5</td>\n",
       "      <td>False</td>\n",
       "      <td>0</td>\n",
       "      <td>No smart start, no exclusion</td>\n",
       "    </tr>\n",
       "    <tr>\n",
       "      <th>4</th>\n",
       "      <td>3</td>\n",
       "      <td>False</td>\n",
       "      <td>0</td>\n",
       "      <td>No smart start, no exclusion</td>\n",
       "    </tr>\n",
       "    <tr>\n",
       "      <th>...</th>\n",
       "      <td>...</td>\n",
       "      <td>...</td>\n",
       "      <td>...</td>\n",
       "      <td>...</td>\n",
       "    </tr>\n",
       "    <tr>\n",
       "      <th>3995</th>\n",
       "      <td>5</td>\n",
       "      <td>True</td>\n",
       "      <td>2</td>\n",
       "      <td>Smart start, 2 exclusions</td>\n",
       "    </tr>\n",
       "    <tr>\n",
       "      <th>3996</th>\n",
       "      <td>4</td>\n",
       "      <td>True</td>\n",
       "      <td>2</td>\n",
       "      <td>Smart start, 2 exclusions</td>\n",
       "    </tr>\n",
       "    <tr>\n",
       "      <th>3997</th>\n",
       "      <td>3</td>\n",
       "      <td>True</td>\n",
       "      <td>2</td>\n",
       "      <td>Smart start, 2 exclusions</td>\n",
       "    </tr>\n",
       "    <tr>\n",
       "      <th>3998</th>\n",
       "      <td>5</td>\n",
       "      <td>True</td>\n",
       "      <td>2</td>\n",
       "      <td>Smart start, 2 exclusions</td>\n",
       "    </tr>\n",
       "    <tr>\n",
       "      <th>3999</th>\n",
       "      <td>6</td>\n",
       "      <td>True</td>\n",
       "      <td>2</td>\n",
       "      <td>Smart start, 2 exclusions</td>\n",
       "    </tr>\n",
       "  </tbody>\n",
       "</table>\n",
       "<p>4000 rows × 4 columns</p>\n",
       "</div>"
      ],
      "text/plain": [
       "      success  use_smart  exclude                      strategy\n",
       "0           4      False        0  No smart start, no exclusion\n",
       "1           3      False        0  No smart start, no exclusion\n",
       "2           4      False        0  No smart start, no exclusion\n",
       "3           5      False        0  No smart start, no exclusion\n",
       "4           3      False        0  No smart start, no exclusion\n",
       "...       ...        ...      ...                           ...\n",
       "3995        5       True        2     Smart start, 2 exclusions\n",
       "3996        4       True        2     Smart start, 2 exclusions\n",
       "3997        3       True        2     Smart start, 2 exclusions\n",
       "3998        5       True        2     Smart start, 2 exclusions\n",
       "3999        6       True        2     Smart start, 2 exclusions\n",
       "\n",
       "[4000 rows x 4 columns]"
      ]
     },
     "execution_count": 36,
     "metadata": {},
     "output_type": "execute_result"
    }
   ],
   "source": [
    "df = pd.concat([df1, df2, df3, df4], ignore_index=True)\n",
    "df"
   ]
  },
  {
   "cell_type": "code",
   "execution_count": 38,
   "id": "cb109835-871f-4552-972f-6e93d236291b",
   "metadata": {},
   "outputs": [
    {
     "data": {
      "text/plain": [
       "<matplotlib.legend.Legend at 0x7f62b7e980a0>"
      ]
     },
     "execution_count": 38,
     "metadata": {},
     "output_type": "execute_result"
    },
    {
     "data": {
      "image/png": "[encoded data removed]",
      "text/plain": [
       "<Figure size 432x288 with 1 Axes>"
      ]
     },
     "metadata": {},
     "output_type": "display_data"
    }
   ],
   "source": [
    "p = sns.countplot(data=df, x='success', hue='strategy')\n",
    "p.set_xticklabels([ 2, 3, 4, 5, 6, 'Not found'])\n",
    "p.set_xlabel(\"Word found at attempt\")\n",
    "\n",
    "p.set_title(\"Performance on word BOXER - Montecarlo on 1000\")\n",
    "\n",
    "# Place the legend out of the figure\n",
    "p.legend(bbox_to_anchor=(1.05, 1), loc=2, borderaxespad=0.)"
   ]
  },
  {
   "cell_type": "code",
   "execution_count": 39,
   "id": "b7f873fa-bda8-4c77-960d-e32d095b6203",
   "metadata": {},
   "outputs": [
    {
     "name": "stdout",
     "output_type": "stream",
     "text": [
      "success rate:  0.964 0.948 0.956 0.965\n",
      "average success attempt:  4.263 4.294 4.294 4.313\n"
     ]
    }
   ],
   "source": [
    "print ('success rate: ', r1['success_rate'], r2['success_rate'], r3['success_rate'], r4['success_rate'])\n",
    "print ('average success attempt: ', np.mean( r1['profile']), np.mean( r2['profile']),np.mean( r2['profile']), np.mean( r3['profile']))"
   ]
  },
  {
   "cell_type": "code",
   "execution_count": null,
   "id": "baa892b7-8e71-41e4-960e-9e791f8f7f45",
   "metadata": {},
   "outputs": [],
   "source": []
  }
 ],
 "metadata": {
  "kernelspec": {
   "display_name": "Python 3 (ipykernel)",
   "language": "python",
   "name": "python3"
  },
  "language_info": {
   "codemirror_mode": {
    "name": "ipython",
    "version": 3
   },
   "file_extension": ".py",
   "mimetype": "text/x-python",
   "name": "python",
   "nbconvert_exporter": "python",
   "pygments_lexer": "ipython3",
   "version": "3.10.2"
  }
 },
 "nbformat": 4,
 "nbformat_minor": 5
}
