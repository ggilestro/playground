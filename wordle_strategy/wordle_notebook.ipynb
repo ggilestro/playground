{
 "cells": [
  {
   "cell_type": "code",
   "execution_count": 1,
   "id": "62adc538-6fb1-4c9c-ba61-894453e9a3e8",
   "metadata": {},
   "outputs": [
    {
     "data": {
      "text/plain": [
       "<Figure size 432x288 with 0 Axes>"
      ]
     },
     "metadata": {},
     "output_type": "display_data"
    }
   ],
   "source": [
    "from wordle_modeller import wordle_solver, formatgametohtml\n",
    "\n",
    "import seaborn as sns\n",
    "import matplotlib.pyplot as plt # for data visualization\n",
    "\n",
    "import pandas as pd\n",
    "import numpy as np\n",
    "\n",
    "from IPython.core.display import display, HTML\n",
    "\n",
    "sns.set_theme(style=\"darkgrid\")\n",
    "sns.color_palette()\n",
    "sns.despine()"
   ]
  },
  {
   "cell_type": "code",
   "execution_count": 2,
   "id": "b66ac366-36fd-4f36-b36e-7f0d5092c412",
   "metadata": {},
   "outputs": [
    {
     "name": "stdout",
     "output_type": "stream",
     "text": [
      "Loaded dictionary with 3450 words\n"
     ]
    }
   ],
   "source": [
    "g = wordle_solver(dict_file = 'full_five_letters_words.txt')"
   ]
  },
  {
   "cell_type": "markdown",
   "id": "24ecf11a-ff49-4b2f-912d-e4e8bd71a8f8",
   "metadata": {},
   "source": [
    "### Let's start with some basic analysis"
   ]
  },
  {
   "cell_type": "code",
   "execution_count": 3,
   "id": "f5e37391-7109-4856-a44a-2d8c52dc9f87",
   "metadata": {},
   "outputs": [
    {
     "data": {
      "text/html": [
       "<div>\n",
       "<style scoped>\n",
       "    .dataframe tbody tr th:only-of-type {\n",
       "        vertical-align: middle;\n",
       "    }\n",
       "\n",
       "    .dataframe tbody tr th {\n",
       "        vertical-align: top;\n",
       "    }\n",
       "\n",
       "    .dataframe thead th {\n",
       "        text-align: right;\n",
       "    }\n",
       "</style>\n",
       "<table border=\"1\" class=\"dataframe\">\n",
       "  <thead>\n",
       "    <tr style=\"text-align: right;\">\n",
       "      <th></th>\n",
       "      <th>frequency</th>\n",
       "    </tr>\n",
       "    <tr>\n",
       "      <th>letter</th>\n",
       "      <th></th>\n",
       "    </tr>\n",
       "  </thead>\n",
       "  <tbody>\n",
       "    <tr>\n",
       "      <th>E</th>\n",
       "      <td>1861</td>\n",
       "    </tr>\n",
       "    <tr>\n",
       "      <th>S</th>\n",
       "      <td>1503</td>\n",
       "    </tr>\n",
       "    <tr>\n",
       "      <th>A</th>\n",
       "      <td>1475</td>\n",
       "    </tr>\n",
       "    <tr>\n",
       "      <th>R</th>\n",
       "      <td>1205</td>\n",
       "    </tr>\n",
       "    <tr>\n",
       "      <th>O</th>\n",
       "      <td>1138</td>\n",
       "    </tr>\n",
       "    <tr>\n",
       "      <th>L</th>\n",
       "      <td>992</td>\n",
       "    </tr>\n",
       "    <tr>\n",
       "      <th>T</th>\n",
       "      <td>962</td>\n",
       "    </tr>\n",
       "    <tr>\n",
       "      <th>I</th>\n",
       "      <td>957</td>\n",
       "    </tr>\n",
       "    <tr>\n",
       "      <th>N</th>\n",
       "      <td>781</td>\n",
       "    </tr>\n",
       "    <tr>\n",
       "      <th>D</th>\n",
       "      <td>777</td>\n",
       "    </tr>\n",
       "    <tr>\n",
       "      <th>C</th>\n",
       "      <td>769</td>\n",
       "    </tr>\n",
       "    <tr>\n",
       "      <th>U</th>\n",
       "      <td>624</td>\n",
       "    </tr>\n",
       "    <tr>\n",
       "      <th>B</th>\n",
       "      <td>546</td>\n",
       "    </tr>\n",
       "    <tr>\n",
       "      <th>Y</th>\n",
       "      <td>516</td>\n",
       "    </tr>\n",
       "    <tr>\n",
       "      <th>P</th>\n",
       "      <td>497</td>\n",
       "    </tr>\n",
       "    <tr>\n",
       "      <th>H</th>\n",
       "      <td>477</td>\n",
       "    </tr>\n",
       "    <tr>\n",
       "      <th>M</th>\n",
       "      <td>449</td>\n",
       "    </tr>\n",
       "    <tr>\n",
       "      <th>G</th>\n",
       "      <td>393</td>\n",
       "    </tr>\n",
       "    <tr>\n",
       "      <th>F</th>\n",
       "      <td>353</td>\n",
       "    </tr>\n",
       "    <tr>\n",
       "      <th>K</th>\n",
       "      <td>325</td>\n",
       "    </tr>\n",
       "    <tr>\n",
       "      <th>W</th>\n",
       "      <td>257</td>\n",
       "    </tr>\n",
       "    <tr>\n",
       "      <th>V</th>\n",
       "      <td>202</td>\n",
       "    </tr>\n",
       "    <tr>\n",
       "      <th>X</th>\n",
       "      <td>65</td>\n",
       "    </tr>\n",
       "    <tr>\n",
       "      <th>Z</th>\n",
       "      <td>60</td>\n",
       "    </tr>\n",
       "    <tr>\n",
       "      <th>J</th>\n",
       "      <td>35</td>\n",
       "    </tr>\n",
       "    <tr>\n",
       "      <th>Q</th>\n",
       "      <td>31</td>\n",
       "    </tr>\n",
       "  </tbody>\n",
       "</table>\n",
       "</div>"
      ],
      "text/plain": [
       "        frequency\n",
       "letter           \n",
       "E            1861\n",
       "S            1503\n",
       "A            1475\n",
       "R            1205\n",
       "O            1138\n",
       "L             992\n",
       "T             962\n",
       "I             957\n",
       "N             781\n",
       "D             777\n",
       "C             769\n",
       "U             624\n",
       "B             546\n",
       "Y             516\n",
       "P             497\n",
       "H             477\n",
       "M             449\n",
       "G             393\n",
       "F             353\n",
       "K             325\n",
       "W             257\n",
       "V             202\n",
       "X              65\n",
       "Z              60\n",
       "J              35\n",
       "Q              31"
      ]
     },
     "execution_count": 3,
     "metadata": {},
     "output_type": "execute_result"
    }
   ],
   "source": [
    "f = g.analyse_frequency()\n",
    "df1 = pd.DataFrame.from_dict(f, orient='index', columns=['frequency'])\n",
    "df1.index.name = 'letter'\n",
    "df1.sort_values(by=['frequency'], ascending=False)"
   ]
  },
  {
   "cell_type": "code",
   "execution_count": 4,
   "id": "2b202b0c-cd7b-4095-b708-5e2763474a5e",
   "metadata": {},
   "outputs": [
    {
     "data": {
      "text/plain": [
       "<AxesSubplot:title={'center':'Frequency of letters in all the five letters words'}, xlabel='letter'>"
      ]
     },
     "execution_count": 4,
     "metadata": {},
     "output_type": "execute_result"
    },
    {
     "data": {
      "image/png": "[encoded data removed]",
      "text/plain": [
       "<Figure size 432x288 with 1 Axes>"
      ]
     },
     "metadata": {},
     "output_type": "display_data"
    }
   ],
   "source": [
    "df1.plot(kind=\"bar\", rot=0, title='Frequency of letters in all the five letters words')"
   ]
  },
  {
   "cell_type": "code",
   "execution_count": 5,
   "id": "910f88d4-6f93-4adb-af88-126aec99d6ce",
   "metadata": {},
   "outputs": [
    {
     "data": {
      "text/plain": [
       "['AROSE',\n",
       " 'LASER',\n",
       " 'EARLS',\n",
       " 'TEARS',\n",
       " 'ASTER',\n",
       " 'RATES',\n",
       " 'STARE',\n",
       " 'RAISE',\n",
       " 'ARISE',\n",
       " 'ALOES',\n",
       " 'SNARE',\n",
       " 'EARNS',\n",
       " 'SANER',\n",
       " 'DARES',\n",
       " 'READS',\n",
       " 'DEARS',\n",
       " 'ACRES',\n",
       " 'CARES',\n",
       " 'SCARE',\n",
       " 'RACES']"
      ]
     },
     "execution_count": 5,
     "metadata": {},
     "output_type": "execute_result"
    }
   ],
   "source": [
    "g.frequency_rank(limit=20)"
   ]
  },
  {
   "cell_type": "code",
   "execution_count": 6,
   "id": "14ceb0c7-476c-4da7-8a3f-d8336bc4d55b",
   "metadata": {},
   "outputs": [
    {
     "name": "stdout",
     "output_type": "stream",
     "text": [
      "{'SNARE': 74, 'total': 3448}\n",
      "{'SLEEP': 113, 'total': 3448}\n",
      "{'SLEPT': 711, 'total': 3448}\n",
      "{'TOMAS': 'not found', 'total': 3448}\n"
     ]
    }
   ],
   "source": [
    "for word in ['snare', 'sleep', 'slept', 'tomas']:\n",
    "    print ( g.check_rank(word) )"
   ]
  },
  {
   "cell_type": "markdown",
   "id": "51830c41-edb9-4fbc-98a3-b0911a10c814",
   "metadata": {},
   "source": [
    "### To visualize a single game:"
   ]
  },
  {
   "cell_type": "code",
   "execution_count": 7,
   "id": "68727094-dc7c-422f-96ce-a0406306c52e",
   "metadata": {},
   "outputs": [
    {
     "data": {
      "text/html": [
       "<html><head><link rel=\"stylesheet\" href=\"wordle.css\"><style type=\"text/css\">@font-face{font-family:Gilroy;font-style:normal;font-weight:100 400;src:url(https://pouch-global-font-assets.s3.eu-central-1.amazonaws.com/Gilroy-Medium.otf)}@font-face{font-family:Gilroy;font-style:normal;font-weight:500 900;src:url(https://pouch-global-font-assets.s3.eu-central-1.amazonaws.com/Gilroy-Bold.otf)}@font-face{font-family:\"Font Awesome 5 Free\";font-style:normal;font-weight:900;src:url(https://use.fontawesome.com/releases/v5.6.3/webfonts/fa-solid-900.woff2) format(\"woff2\")}@font-face{font-family:\"Font Awesome 5 Brands\";font-style:normal;font-weight:normal;src:url(https://use.fontawesome.com/releases/v5.6.3/webfonts/fa-brands-400.woff2) format(\"woff2\")}</style></head><body><div id=\"game\"><div id=\"board-container\"><div id=\"board\" style=\"width: 350px; height: 420px;\"><game-row letters=\"FLINT\" length=\"5\"><div class=\"row\"><game-tile letter=\"F\" evaluation=\"absent\" reveal=\"\"><div class=\"tile\" data-state=\"absent\" data-animation=\"idle\">F</div></game-tile><game-tile letter=\"L\" evaluation=\"present\" reveal=\"\"><div class=\"tile\" data-state=\"present\" data-animation=\"idle\">L</div></game-tile><game-tile letter=\"I\" evaluation=\"present\" reveal=\"\"><div class=\"tile\" data-state=\"present\" data-animation=\"idle\">I</div></game-tile><game-tile letter=\"N\" evaluation=\"present\" reveal=\"\"><div class=\"tile\" data-state=\"present\" data-animation=\"idle\">N</div></game-tile><game-tile letter=\"T\" evaluation=\"absent\" reveal=\"\"><div class=\"tile\" data-state=\"absent\" data-animation=\"idle\">T</div></game-tile></div></game-row><game-row letters=\"COLIN\" length=\"5\"><div class=\"row\"><game-tile letter=\"C\" evaluation=\"absent\" reveal=\"\"><div class=\"tile\" data-state=\"absent\" data-animation=\"idle\">C</div></game-tile><game-tile letter=\"O\" evaluation=\"absent\" reveal=\"\"><div class=\"tile\" data-state=\"absent\" data-animation=\"idle\">O</div></game-tile><game-tile letter=\"L\" evaluation=\"present\" reveal=\"\"><div class=\"tile\" data-state=\"present\" data-animation=\"idle\">L</div></game-tile><game-tile letter=\"I\" evaluation=\"correct\" reveal=\"\"><div class=\"tile\" data-state=\"correct\" data-animation=\"idle\">I</div></game-tile><game-tile letter=\"N\" evaluation=\"present\" reveal=\"\"><div class=\"tile\" data-state=\"present\" data-animation=\"idle\">N</div></game-tile></div></game-row><game-row letters=\"SNAIL\" length=\"5\"><div class=\"row\"><game-tile letter=\"S\" evaluation=\"absent\" reveal=\"\"><div class=\"tile\" data-state=\"absent\" data-animation=\"idle\">S</div></game-tile><game-tile letter=\"N\" evaluation=\"correct\" reveal=\"\"><div class=\"tile\" data-state=\"correct\" data-animation=\"idle\">N</div></game-tile><game-tile letter=\"A\" evaluation=\"present\" reveal=\"\"><div class=\"tile\" data-state=\"present\" data-animation=\"idle\">A</div></game-tile><game-tile letter=\"I\" evaluation=\"correct\" reveal=\"\"><div class=\"tile\" data-state=\"correct\" data-animation=\"idle\">I</div></game-tile><game-tile letter=\"L\" evaluation=\"correct\" reveal=\"\"><div class=\"tile\" data-state=\"correct\" data-animation=\"idle\">L</div></game-tile></div></game-row><game-row letters=\"ANVIL\" length=\"5\"><div class=\"row\"><game-tile letter=\"A\" evaluation=\"correct\" reveal=\"\"><div class=\"tile\" data-state=\"correct\" data-animation=\"idle\">A</div></game-tile><game-tile letter=\"N\" evaluation=\"correct\" reveal=\"\"><div class=\"tile\" data-state=\"correct\" data-animation=\"idle\">N</div></game-tile><game-tile letter=\"V\" evaluation=\"correct\" reveal=\"\"><div class=\"tile\" data-state=\"correct\" data-animation=\"idle\">V</div></game-tile><game-tile letter=\"I\" evaluation=\"correct\" reveal=\"\"><div class=\"tile\" data-state=\"correct\" data-animation=\"idle\">I</div></game-tile><game-tile letter=\"L\" evaluation=\"correct\" reveal=\"\"><div class=\"tile\" data-state=\"correct\" data-animation=\"idle\">L</div></game-tile></div></game-row></div></div></div></body></html><body>"
      ],
      "text/plain": [
       "<IPython.core.display.HTML object>"
      ]
     },
     "metadata": {},
     "output_type": "display_data"
    }
   ],
   "source": [
    "r = g.solve(use_smart=False, exclude=0)\n",
    "#this visualization requires CSS and will not work on github\n",
    "display(HTML(formatgametohtml(r['game'])))\n",
    "#r['game']"
   ]
  },
  {
   "cell_type": "markdown",
   "id": "dfb31564-e82c-42b2-9e37-1cd71e17c311",
   "metadata": {
    "tags": []
   },
   "source": [
    "### Let's start solving to compare strategies"
   ]
  },
  {
   "cell_type": "code",
   "execution_count": 8,
   "id": "5d7d4329-351c-425d-b9a4-bc3f42d219ab",
   "metadata": {},
   "outputs": [
    {
     "name": "stdout",
     "output_type": "stream",
     "text": [
      "Game # 9999, word WRING, solved in:7 \r"
     ]
    },
    {
     "data": {
      "text/plain": [
       "0.0015"
      ]
     },
     "execution_count": 8,
     "metadata": {},
     "output_type": "execute_result"
    }
   ],
   "source": [
    "#stupid mode\n",
    "r0 = g.solve_many(use_smart=False, stupid_mode=True, N_GAMES=10000, exclude=0)\n",
    "r0['success_rate']"
   ]
  },
  {
   "cell_type": "code",
   "execution_count": 9,
   "id": "a11d5cc8-08d9-42b4-95b5-f14a451592fb",
   "metadata": {},
   "outputs": [],
   "source": [
    "#do you want to try performance on today's word? If yes, put it here. Otherwise for general performance set to None\n",
    "guess_word = None\n",
    "start_with = 'ROATE'"
   ]
  },
  {
   "cell_type": "code",
   "execution_count": 10,
   "id": "29a3f9ca-e869-4938-97d1-e50e1a434fe0",
   "metadata": {},
   "outputs": [
    {
     "name": "stdout",
     "output_type": "stream",
     "text": [
      "Game # 999, word POOCH, solved in:4 \r"
     ]
    }
   ],
   "source": [
    "r1 = g.solve_many(guess_word=guess_word, start_with=start_with, use_smart=False, N_GAMES=1000, exclude=0)"
   ]
  },
  {
   "cell_type": "code",
   "execution_count": 11,
   "id": "9ceaf35e-bdda-4ea9-86ca-5820c73f91ec",
   "metadata": {},
   "outputs": [
    {
     "name": "stdout",
     "output_type": "stream",
     "text": [
      "Game # 999, word PATSY, solved in:4 \r"
     ]
    }
   ],
   "source": [
    "r2 = g.solve_many(guess_word=guess_word, start_with=start_with, use_smart=True, N_GAMES=1000, exclude=0)"
   ]
  },
  {
   "cell_type": "code",
   "execution_count": 12,
   "id": "a85c3c45-05d7-40c9-81d1-4534cbe43b1b",
   "metadata": {},
   "outputs": [
    {
     "name": "stdout",
     "output_type": "stream",
     "text": [
      "Game # 999, word GEARS, solved in:7 \r"
     ]
    }
   ],
   "source": [
    "r3 = g.solve_many(guess_word=guess_word, start_with=start_with, use_smart=True, N_GAMES=1000, exclude=1)"
   ]
  },
  {
   "cell_type": "code",
   "execution_count": 13,
   "id": "65fe1ce9-b6d5-41c6-a531-0c4d0ed8d8e9",
   "metadata": {},
   "outputs": [
    {
     "name": "stdout",
     "output_type": "stream",
     "text": [
      "Game # 999, word TIGHT, solved in:4 \r"
     ]
    }
   ],
   "source": [
    "r4 = g.solve_many(guess_word=guess_word, start_with=start_with, use_smart=True, N_GAMES=1000, exclude=2)"
   ]
  },
  {
   "cell_type": "code",
   "execution_count": 14,
   "id": "6ef5b796-c8bd-4787-85f4-60148682e391",
   "metadata": {},
   "outputs": [],
   "source": [
    "df1 = pd.DataFrame(data=r1['profile'])\n",
    "df1.index.name = 'game'\n",
    "df1.columns = ['success']\n",
    "df1['use_smart'] = False\n",
    "df1['exclude'] = 0\n",
    "df1['strategy'] = 'No smart start, no exclusion'"
   ]
  },
  {
   "cell_type": "code",
   "execution_count": 15,
   "id": "182d901e-3de5-4f96-bcc2-92b9fb7d954b",
   "metadata": {},
   "outputs": [],
   "source": [
    "df2 = pd.DataFrame(data=r2['profile'])\n",
    "df2.index.name = 'game'\n",
    "df2.columns = ['success']\n",
    "df2['use_smart'] = True\n",
    "df2['exclude'] = 0\n",
    "df2['strategy'] = 'Smart start, no exclusion'"
   ]
  },
  {
   "cell_type": "code",
   "execution_count": 16,
   "id": "88bb253e-ec38-4f35-abcb-4450e99ee0d5",
   "metadata": {},
   "outputs": [],
   "source": [
    "df3 = pd.DataFrame(data=r3['profile'])\n",
    "df3.index.name = 'game'\n",
    "df3.columns = ['success']\n",
    "df3['use_smart'] = True\n",
    "df3['exclude'] = 1\n",
    "df3['strategy'] = 'Smart start, 1 exclusion'"
   ]
  },
  {
   "cell_type": "code",
   "execution_count": 17,
   "id": "e1ace571-7a7f-4656-9644-a38da5b85200",
   "metadata": {},
   "outputs": [],
   "source": [
    "df4 = pd.DataFrame(data=r4['profile'])\n",
    "df4.index.name = 'game'\n",
    "df4.columns = ['success']\n",
    "df4['use_smart'] = True\n",
    "df4['exclude'] = 2\n",
    "df4['strategy'] = 'Smart start, 2 exclusions'"
   ]
  },
  {
   "cell_type": "code",
   "execution_count": 18,
   "id": "f83a4cff-23eb-40cd-8938-31d65f365884",
   "metadata": {},
   "outputs": [
    {
     "data": {
      "text/html": [
       "<div>\n",
       "<style scoped>\n",
       "    .dataframe tbody tr th:only-of-type {\n",
       "        vertical-align: middle;\n",
       "    }\n",
       "\n",
       "    .dataframe tbody tr th {\n",
       "        vertical-align: top;\n",
       "    }\n",
       "\n",
       "    .dataframe thead th {\n",
       "        text-align: right;\n",
       "    }\n",
       "</style>\n",
       "<table border=\"1\" class=\"dataframe\">\n",
       "  <thead>\n",
       "    <tr style=\"text-align: right;\">\n",
       "      <th></th>\n",
       "      <th>success</th>\n",
       "      <th>use_smart</th>\n",
       "      <th>exclude</th>\n",
       "      <th>strategy</th>\n",
       "    </tr>\n",
       "  </thead>\n",
       "  <tbody>\n",
       "    <tr>\n",
       "      <th>0</th>\n",
       "      <td>2</td>\n",
       "      <td>False</td>\n",
       "      <td>0</td>\n",
       "      <td>No smart start, no exclusion</td>\n",
       "    </tr>\n",
       "    <tr>\n",
       "      <th>1</th>\n",
       "      <td>6</td>\n",
       "      <td>False</td>\n",
       "      <td>0</td>\n",
       "      <td>No smart start, no exclusion</td>\n",
       "    </tr>\n",
       "    <tr>\n",
       "      <th>2</th>\n",
       "      <td>4</td>\n",
       "      <td>False</td>\n",
       "      <td>0</td>\n",
       "      <td>No smart start, no exclusion</td>\n",
       "    </tr>\n",
       "    <tr>\n",
       "      <th>3</th>\n",
       "      <td>5</td>\n",
       "      <td>False</td>\n",
       "      <td>0</td>\n",
       "      <td>No smart start, no exclusion</td>\n",
       "    </tr>\n",
       "    <tr>\n",
       "      <th>4</th>\n",
       "      <td>4</td>\n",
       "      <td>False</td>\n",
       "      <td>0</td>\n",
       "      <td>No smart start, no exclusion</td>\n",
       "    </tr>\n",
       "    <tr>\n",
       "      <th>...</th>\n",
       "      <td>...</td>\n",
       "      <td>...</td>\n",
       "      <td>...</td>\n",
       "      <td>...</td>\n",
       "    </tr>\n",
       "    <tr>\n",
       "      <th>3995</th>\n",
       "      <td>7</td>\n",
       "      <td>True</td>\n",
       "      <td>2</td>\n",
       "      <td>Smart start, 2 exclusions</td>\n",
       "    </tr>\n",
       "    <tr>\n",
       "      <th>3996</th>\n",
       "      <td>4</td>\n",
       "      <td>True</td>\n",
       "      <td>2</td>\n",
       "      <td>Smart start, 2 exclusions</td>\n",
       "    </tr>\n",
       "    <tr>\n",
       "      <th>3997</th>\n",
       "      <td>4</td>\n",
       "      <td>True</td>\n",
       "      <td>2</td>\n",
       "      <td>Smart start, 2 exclusions</td>\n",
       "    </tr>\n",
       "    <tr>\n",
       "      <th>3998</th>\n",
       "      <td>4</td>\n",
       "      <td>True</td>\n",
       "      <td>2</td>\n",
       "      <td>Smart start, 2 exclusions</td>\n",
       "    </tr>\n",
       "    <tr>\n",
       "      <th>3999</th>\n",
       "      <td>4</td>\n",
       "      <td>True</td>\n",
       "      <td>2</td>\n",
       "      <td>Smart start, 2 exclusions</td>\n",
       "    </tr>\n",
       "  </tbody>\n",
       "</table>\n",
       "<p>4000 rows × 4 columns</p>\n",
       "</div>"
      ],
      "text/plain": [
       "      success  use_smart  exclude                      strategy\n",
       "0           2      False        0  No smart start, no exclusion\n",
       "1           6      False        0  No smart start, no exclusion\n",
       "2           4      False        0  No smart start, no exclusion\n",
       "3           5      False        0  No smart start, no exclusion\n",
       "4           4      False        0  No smart start, no exclusion\n",
       "...       ...        ...      ...                           ...\n",
       "3995        7       True        2     Smart start, 2 exclusions\n",
       "3996        4       True        2     Smart start, 2 exclusions\n",
       "3997        4       True        2     Smart start, 2 exclusions\n",
       "3998        4       True        2     Smart start, 2 exclusions\n",
       "3999        4       True        2     Smart start, 2 exclusions\n",
       "\n",
       "[4000 rows x 4 columns]"
      ]
     },
     "execution_count": 18,
     "metadata": {},
     "output_type": "execute_result"
    }
   ],
   "source": [
    "df = pd.concat([df1, df2, df3, df4], ignore_index=True)\n",
    "df"
   ]
  },
  {
   "cell_type": "code",
   "execution_count": 20,
   "id": "cb109835-871f-4552-972f-6e93d236291b",
   "metadata": {},
   "outputs": [
    {
     "data": {
      "text/plain": [
       "<matplotlib.legend.Legend at 0x7fb6ebf6f7c0>"
      ]
     },
     "execution_count": 20,
     "metadata": {},
     "output_type": "execute_result"
    },
    {
     "data": {
      "image/png": "[encoded data removed]",
      "text/plain": [
       "<Figure size 432x288 with 1 Axes>"
      ]
     },
     "metadata": {},
     "output_type": "display_data"
    }
   ],
   "source": [
    "p = sns.countplot(data=df, x='success', hue='strategy')\n",
    "p.set_xticklabels([ 2, 3, 4, 5, 6, 'Not found'])\n",
    "p.set_xlabel(\"Word found at attempt\")\n",
    "p.set_title(\"Performance - Montecarlo on 1000\")\n",
    "\n",
    "# Put the legend out of the figure\n",
    "p.legend(bbox_to_anchor=(1.05, 1), loc=2, borderaxespad=0.)"
   ]
  },
  {
   "cell_type": "code",
   "execution_count": 21,
   "id": "b7f873fa-bda8-4c77-960d-e32d095b6203",
   "metadata": {},
   "outputs": [
    {
     "name": "stdout",
     "output_type": "stream",
     "text": [
      "success rate:  0.941 0.92 0.906 0.857\n",
      "average success attempt:  4.229 4.366 4.366 4.727\n"
     ]
    }
   ],
   "source": [
    "print ('success rate: ', r1['success_rate'], r2['success_rate'], r3['success_rate'], r4['success_rate'])\n",
    "print ('average success attempt: ', np.mean( r1['profile']), np.mean( r2['profile']),np.mean( r2['profile']), np.mean( r3['profile']))"
   ]
  },
  {
   "cell_type": "code",
   "execution_count": null,
   "id": "f704bac5-a77c-4e5c-a48d-effdce85b737",
   "metadata": {},
   "outputs": [],
   "source": []
  }
 ],
 "metadata": {
  "kernelspec": {
   "display_name": "Python 3 (ipykernel)",
   "language": "python",
   "name": "python3"
  },
  "language_info": {
   "codemirror_mode": {
    "name": "ipython",
    "version": 3
   },
   "file_extension": ".py",
   "mimetype": "text/x-python",
   "name": "python",
   "nbconvert_exporter": "python",
   "pygments_lexer": "ipython3",
   "version": "3.10.1"
  }
 },
 "nbformat": 4,
 "nbformat_minor": 5
}
