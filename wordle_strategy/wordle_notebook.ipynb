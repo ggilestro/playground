{
 "cells": [
  {
   "cell_type": "code",
   "execution_count": 1,
   "id": "62adc538-6fb1-4c9c-ba61-894453e9a3e8",
   "metadata": {},
   "outputs": [
    {
     "data": {
      "text/plain": [
       "<Figure size 432x288 with 0 Axes>"
      ]
     },
     "metadata": {},
     "output_type": "display_data"
    }
   ],
   "source": [
    "from wordle_modeller import wordle_solver\n",
    "\n",
    "import seaborn as sns\n",
    "import matplotlib.pyplot as plt # for data visualization\n",
    "\n",
    "import pandas as pd\n",
    "import numpy as np\n",
    "\n",
    "sns.set_theme(style=\"darkgrid\")\n",
    "sns.color_palette()\n",
    "sns.despine()"
   ]
  },
  {
   "cell_type": "code",
   "execution_count": 2,
   "id": "b66ac366-36fd-4f36-b36e-7f0d5092c412",
   "metadata": {},
   "outputs": [],
   "source": [
    "g = wordle_solver(dict_file = 'full_five_letters_words.txt')"
   ]
  },
  {
   "cell_type": "code",
   "execution_count": 3,
   "id": "29a3f9ca-e869-4938-97d1-e50e1a434fe0",
   "metadata": {},
   "outputs": [
    {
     "name": "stdout",
     "output_type": "stream",
     "text": [
      "Game 999, word PATTY, solved in:6 \r"
     ]
    }
   ],
   "source": [
    "r1 = g.solve_many(use_smart=False, N_GAMES=1000, exclude=0)"
   ]
  },
  {
   "cell_type": "code",
   "execution_count": 4,
   "id": "9ceaf35e-bdda-4ea9-86ca-5820c73f91ec",
   "metadata": {},
   "outputs": [
    {
     "name": "stdout",
     "output_type": "stream",
     "text": [
      "Game 999, word BRONC, solved in:3 \r"
     ]
    }
   ],
   "source": [
    "r2 = g.solve_many(use_smart=True, N_GAMES=1000, exclude=0)"
   ]
  },
  {
   "cell_type": "code",
   "execution_count": 5,
   "id": "a85c3c45-05d7-40c9-81d1-4534cbe43b1b",
   "metadata": {},
   "outputs": [
    {
     "name": "stdout",
     "output_type": "stream",
     "text": [
      "Game 999, word BLEBS, solved in:5 \r"
     ]
    }
   ],
   "source": [
    "r3 = g.solve_many(use_smart=True, N_GAMES=1000, exclude=1)"
   ]
  },
  {
   "cell_type": "code",
   "execution_count": 6,
   "id": "65fe1ce9-b6d5-41c6-a531-0c4d0ed8d8e9",
   "metadata": {},
   "outputs": [
    {
     "name": "stdout",
     "output_type": "stream",
     "text": [
      "Game 999, word CHOCK, solved in:4 \r"
     ]
    }
   ],
   "source": [
    "r4 = g.solve_many(use_smart=True, N_GAMES=1000, exclude=2)"
   ]
  },
  {
   "cell_type": "code",
   "execution_count": 7,
   "id": "6ef5b796-c8bd-4787-85f4-60148682e391",
   "metadata": {},
   "outputs": [],
   "source": [
    "df1 = pd.DataFrame(data=r1['profile'])\n",
    "df1.index.name = 'game'\n",
    "df1.columns = ['success']\n",
    "df1['use_smart'] = False\n",
    "df1['exclude'] = 0\n",
    "df1['strategy'] = 'No smart start, no exclusion'"
   ]
  },
  {
   "cell_type": "code",
   "execution_count": 8,
   "id": "182d901e-3de5-4f96-bcc2-92b9fb7d954b",
   "metadata": {},
   "outputs": [],
   "source": [
    "df2 = pd.DataFrame(data=r2['profile'])\n",
    "df2.index.name = 'game'\n",
    "df2.columns = ['success']\n",
    "df2['use_smart'] = True\n",
    "df2['exclude'] = 0\n",
    "df2['strategy'] = 'Smart start, no exclusion'"
   ]
  },
  {
   "cell_type": "code",
   "execution_count": 9,
   "id": "88bb253e-ec38-4f35-abcb-4450e99ee0d5",
   "metadata": {},
   "outputs": [],
   "source": [
    "df3 = pd.DataFrame(data=r3['profile'])\n",
    "df3.index.name = 'game'\n",
    "df3.columns = ['success']\n",
    "df3['use_smart'] = True\n",
    "df3['exclude'] = 1\n",
    "df3['strategy'] = 'Smart start, 1 exclusion'"
   ]
  },
  {
   "cell_type": "code",
   "execution_count": 10,
   "id": "e1ace571-7a7f-4656-9644-a38da5b85200",
   "metadata": {},
   "outputs": [],
   "source": [
    "df4 = pd.DataFrame(data=r4['profile'])\n",
    "df4.index.name = 'game'\n",
    "df4.columns = ['success']\n",
    "df4['use_smart'] = True\n",
    "df4['exclude'] = 2\n",
    "df4['strategy'] = 'Smart start, 2 exclusions'"
   ]
  },
  {
   "cell_type": "code",
   "execution_count": 11,
   "id": "f83a4cff-23eb-40cd-8938-31d65f365884",
   "metadata": {},
   "outputs": [
    {
     "data": {
      "text/html": [
       "<div>\n",
       "<style scoped>\n",
       "    .dataframe tbody tr th:only-of-type {\n",
       "        vertical-align: middle;\n",
       "    }\n",
       "\n",
       "    .dataframe tbody tr th {\n",
       "        vertical-align: top;\n",
       "    }\n",
       "\n",
       "    .dataframe thead th {\n",
       "        text-align: right;\n",
       "    }\n",
       "</style>\n",
       "<table border=\"1\" class=\"dataframe\">\n",
       "  <thead>\n",
       "    <tr style=\"text-align: right;\">\n",
       "      <th></th>\n",
       "      <th>success</th>\n",
       "      <th>use_smart</th>\n",
       "      <th>exclude</th>\n",
       "      <th>strategy</th>\n",
       "    </tr>\n",
       "  </thead>\n",
       "  <tbody>\n",
       "    <tr>\n",
       "      <th>0</th>\n",
       "      <td>5</td>\n",
       "      <td>False</td>\n",
       "      <td>0</td>\n",
       "      <td>No smart start, no exclusion</td>\n",
       "    </tr>\n",
       "    <tr>\n",
       "      <th>1</th>\n",
       "      <td>5</td>\n",
       "      <td>False</td>\n",
       "      <td>0</td>\n",
       "      <td>No smart start, no exclusion</td>\n",
       "    </tr>\n",
       "    <tr>\n",
       "      <th>2</th>\n",
       "      <td>5</td>\n",
       "      <td>False</td>\n",
       "      <td>0</td>\n",
       "      <td>No smart start, no exclusion</td>\n",
       "    </tr>\n",
       "    <tr>\n",
       "      <th>3</th>\n",
       "      <td>3</td>\n",
       "      <td>False</td>\n",
       "      <td>0</td>\n",
       "      <td>No smart start, no exclusion</td>\n",
       "    </tr>\n",
       "    <tr>\n",
       "      <th>4</th>\n",
       "      <td>2</td>\n",
       "      <td>False</td>\n",
       "      <td>0</td>\n",
       "      <td>No smart start, no exclusion</td>\n",
       "    </tr>\n",
       "    <tr>\n",
       "      <th>...</th>\n",
       "      <td>...</td>\n",
       "      <td>...</td>\n",
       "      <td>...</td>\n",
       "      <td>...</td>\n",
       "    </tr>\n",
       "    <tr>\n",
       "      <th>3995</th>\n",
       "      <td>5</td>\n",
       "      <td>True</td>\n",
       "      <td>2</td>\n",
       "      <td>Smart start, 2 exclusions</td>\n",
       "    </tr>\n",
       "    <tr>\n",
       "      <th>3996</th>\n",
       "      <td>4</td>\n",
       "      <td>True</td>\n",
       "      <td>2</td>\n",
       "      <td>Smart start, 2 exclusions</td>\n",
       "    </tr>\n",
       "    <tr>\n",
       "      <th>3997</th>\n",
       "      <td>4</td>\n",
       "      <td>True</td>\n",
       "      <td>2</td>\n",
       "      <td>Smart start, 2 exclusions</td>\n",
       "    </tr>\n",
       "    <tr>\n",
       "      <th>3998</th>\n",
       "      <td>7</td>\n",
       "      <td>True</td>\n",
       "      <td>2</td>\n",
       "      <td>Smart start, 2 exclusions</td>\n",
       "    </tr>\n",
       "    <tr>\n",
       "      <th>3999</th>\n",
       "      <td>4</td>\n",
       "      <td>True</td>\n",
       "      <td>2</td>\n",
       "      <td>Smart start, 2 exclusions</td>\n",
       "    </tr>\n",
       "  </tbody>\n",
       "</table>\n",
       "<p>4000 rows × 4 columns</p>\n",
       "</div>"
      ],
      "text/plain": [
       "      success  use_smart  exclude                      strategy\n",
       "0           5      False        0  No smart start, no exclusion\n",
       "1           5      False        0  No smart start, no exclusion\n",
       "2           5      False        0  No smart start, no exclusion\n",
       "3           3      False        0  No smart start, no exclusion\n",
       "4           2      False        0  No smart start, no exclusion\n",
       "...       ...        ...      ...                           ...\n",
       "3995        5       True        2     Smart start, 2 exclusions\n",
       "3996        4       True        2     Smart start, 2 exclusions\n",
       "3997        4       True        2     Smart start, 2 exclusions\n",
       "3998        7       True        2     Smart start, 2 exclusions\n",
       "3999        4       True        2     Smart start, 2 exclusions\n",
       "\n",
       "[4000 rows x 4 columns]"
      ]
     },
     "execution_count": 11,
     "metadata": {},
     "output_type": "execute_result"
    }
   ],
   "source": [
    "df = pd.concat([df1, df2, df3, df4], ignore_index=True)\n",
    "df"
   ]
  },
  {
   "cell_type": "code",
   "execution_count": 13,
   "id": "cb109835-871f-4552-972f-6e93d236291b",
   "metadata": {},
   "outputs": [
    {
     "data": {
      "text/plain": [
       "<matplotlib.legend.Legend at 0x7f18d95a47f0>"
      ]
     },
     "execution_count": 13,
     "metadata": {},
     "output_type": "execute_result"
    },
    {
     "data": {
      "image/png": "[encoded data removed]",
      "text/plain": [
       "<Figure size 432x288 with 1 Axes>"
      ]
     },
     "metadata": {},
     "output_type": "display_data"
    }
   ],
   "source": [
    "p = sns.countplot(data=df, x='success', hue='strategy')\n",
    "p.set_xticklabels([1, 2, 3, 4, 5, 6, 'Not found'])\n",
    "p.set_xlabel(\"Word found at attempt\")\n",
    "\n",
    "# Put the legend out of the figure\n",
    "p.legend(bbox_to_anchor=(1.05, 1), loc=2, borderaxespad=0.)"
   ]
  },
  {
   "cell_type": "code",
   "execution_count": 14,
   "id": "b7f873fa-bda8-4c77-960d-e32d095b6203",
   "metadata": {},
   "outputs": [
    {
     "data": {
      "text/plain": [
       "(0.936, 0.955, 0.954, 0.933)"
      ]
     },
     "execution_count": 14,
     "metadata": {},
     "output_type": "execute_result"
    }
   ],
   "source": [
    "r1['success_rate'], r2['success_rate'], r3['success_rate'], r4['success_rate']"
   ]
  },
  {
   "cell_type": "code",
   "execution_count": 15,
   "id": "f5e37391-7109-4856-a44a-2d8c52dc9f87",
   "metadata": {},
   "outputs": [
    {
     "data": {
      "text/html": [
       "<div>\n",
       "<style scoped>\n",
       "    .dataframe tbody tr th:only-of-type {\n",
       "        vertical-align: middle;\n",
       "    }\n",
       "\n",
       "    .dataframe tbody tr th {\n",
       "        vertical-align: top;\n",
       "    }\n",
       "\n",
       "    .dataframe thead th {\n",
       "        text-align: right;\n",
       "    }\n",
       "</style>\n",
       "<table border=\"1\" class=\"dataframe\">\n",
       "  <thead>\n",
       "    <tr style=\"text-align: right;\">\n",
       "      <th></th>\n",
       "      <th>frequency</th>\n",
       "    </tr>\n",
       "    <tr>\n",
       "      <th>letter</th>\n",
       "      <th></th>\n",
       "    </tr>\n",
       "  </thead>\n",
       "  <tbody>\n",
       "    <tr>\n",
       "      <th>E</th>\n",
       "      <td>1857</td>\n",
       "    </tr>\n",
       "    <tr>\n",
       "      <th>S</th>\n",
       "      <td>1501</td>\n",
       "    </tr>\n",
       "    <tr>\n",
       "      <th>A</th>\n",
       "      <td>1475</td>\n",
       "    </tr>\n",
       "    <tr>\n",
       "      <th>R</th>\n",
       "      <td>1205</td>\n",
       "    </tr>\n",
       "    <tr>\n",
       "      <th>O</th>\n",
       "      <td>1138</td>\n",
       "    </tr>\n",
       "    <tr>\n",
       "      <th>L</th>\n",
       "      <td>990</td>\n",
       "    </tr>\n",
       "    <tr>\n",
       "      <th>T</th>\n",
       "      <td>961</td>\n",
       "    </tr>\n",
       "    <tr>\n",
       "      <th>I</th>\n",
       "      <td>957</td>\n",
       "    </tr>\n",
       "    <tr>\n",
       "      <th>N</th>\n",
       "      <td>781</td>\n",
       "    </tr>\n",
       "    <tr>\n",
       "      <th>D</th>\n",
       "      <td>777</td>\n",
       "    </tr>\n",
       "    <tr>\n",
       "      <th>C</th>\n",
       "      <td>769</td>\n",
       "    </tr>\n",
       "    <tr>\n",
       "      <th>U</th>\n",
       "      <td>624</td>\n",
       "    </tr>\n",
       "    <tr>\n",
       "      <th>B</th>\n",
       "      <td>546</td>\n",
       "    </tr>\n",
       "    <tr>\n",
       "      <th>Y</th>\n",
       "      <td>516</td>\n",
       "    </tr>\n",
       "    <tr>\n",
       "      <th>P</th>\n",
       "      <td>496</td>\n",
       "    </tr>\n",
       "    <tr>\n",
       "      <th>H</th>\n",
       "      <td>477</td>\n",
       "    </tr>\n",
       "    <tr>\n",
       "      <th>M</th>\n",
       "      <td>449</td>\n",
       "    </tr>\n",
       "    <tr>\n",
       "      <th>G</th>\n",
       "      <td>393</td>\n",
       "    </tr>\n",
       "    <tr>\n",
       "      <th>F</th>\n",
       "      <td>353</td>\n",
       "    </tr>\n",
       "    <tr>\n",
       "      <th>K</th>\n",
       "      <td>325</td>\n",
       "    </tr>\n",
       "    <tr>\n",
       "      <th>W</th>\n",
       "      <td>257</td>\n",
       "    </tr>\n",
       "    <tr>\n",
       "      <th>V</th>\n",
       "      <td>202</td>\n",
       "    </tr>\n",
       "    <tr>\n",
       "      <th>X</th>\n",
       "      <td>65</td>\n",
       "    </tr>\n",
       "    <tr>\n",
       "      <th>Z</th>\n",
       "      <td>60</td>\n",
       "    </tr>\n",
       "    <tr>\n",
       "      <th>J</th>\n",
       "      <td>35</td>\n",
       "    </tr>\n",
       "    <tr>\n",
       "      <th>Q</th>\n",
       "      <td>31</td>\n",
       "    </tr>\n",
       "  </tbody>\n",
       "</table>\n",
       "</div>"
      ],
      "text/plain": [
       "        frequency\n",
       "letter           \n",
       "E            1857\n",
       "S            1501\n",
       "A            1475\n",
       "R            1205\n",
       "O            1138\n",
       "L             990\n",
       "T             961\n",
       "I             957\n",
       "N             781\n",
       "D             777\n",
       "C             769\n",
       "U             624\n",
       "B             546\n",
       "Y             516\n",
       "P             496\n",
       "H             477\n",
       "M             449\n",
       "G             393\n",
       "F             353\n",
       "K             325\n",
       "W             257\n",
       "V             202\n",
       "X              65\n",
       "Z              60\n",
       "J              35\n",
       "Q              31"
      ]
     },
     "execution_count": 15,
     "metadata": {},
     "output_type": "execute_result"
    }
   ],
   "source": [
    "f = g.analyse_frequency()\n",
    "df1 = pd.DataFrame.from_dict(f, orient='index', columns=['frequency'])\n",
    "df1.index.name = 'letter'\n",
    "df1.sort_values(by=['frequency'], ascending=False)"
   ]
  },
  {
   "cell_type": "code",
   "execution_count": 16,
   "id": "2b202b0c-cd7b-4095-b708-5e2763474a5e",
   "metadata": {},
   "outputs": [
    {
     "data": {
      "text/plain": [
       "<AxesSubplot:title={'center':'Frequency of letters in all the five letters words'}, xlabel='letter'>"
      ]
     },
     "execution_count": 16,
     "metadata": {},
     "output_type": "execute_result"
    },
    {
     "data": {
      "image/png": "[encoded data removed]",
      "text/plain": [
       "<Figure size 432x288 with 1 Axes>"
      ]
     },
     "metadata": {},
     "output_type": "display_data"
    }
   ],
   "source": [
    "df1.plot(kind=\"bar\", rot=0, title='Frequency of letters in all the five letters words')"
   ]
  },
  {
   "cell_type": "code",
   "execution_count": 17,
   "id": "910f88d4-6f93-4adb-af88-126aec99d6ce",
   "metadata": {},
   "outputs": [
    {
     "data": {
      "text/plain": [
       "['AROSE',\n",
       " 'LASER',\n",
       " 'EARLS',\n",
       " 'TEARS',\n",
       " 'ASTER',\n",
       " 'RATES',\n",
       " 'STARE',\n",
       " 'RAISE',\n",
       " 'ARISE',\n",
       " 'ALOES',\n",
       " 'SNARE',\n",
       " 'EARNS',\n",
       " 'SANER',\n",
       " 'DARES',\n",
       " 'READS',\n",
       " 'DEARS',\n",
       " 'ACRES',\n",
       " 'CARES',\n",
       " 'SCARE',\n",
       " 'RACES']"
      ]
     },
     "execution_count": 17,
     "metadata": {},
     "output_type": "execute_result"
    }
   ],
   "source": [
    "g.frequency_rank(limit=20)"
   ]
  },
  {
   "cell_type": "code",
   "execution_count": null,
   "id": "68727094-dc7c-422f-96ce-a0406306c52e",
   "metadata": {},
   "outputs": [],
   "source": []
  }
 ],
 "metadata": {
  "kernelspec": {
   "display_name": "Python 3 (ipykernel)",
   "language": "python",
   "name": "python3"
  },
  "language_info": {
   "codemirror_mode": {
    "name": "ipython",
    "version": 3
   },
   "file_extension": ".py",
   "mimetype": "text/x-python",
   "name": "python",
   "nbconvert_exporter": "python",
   "pygments_lexer": "ipython3",
   "version": "3.10.1"
  }
 },
 "nbformat": 4,
 "nbformat_minor": 5
}
