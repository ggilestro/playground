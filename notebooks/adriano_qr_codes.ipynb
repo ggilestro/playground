{
 "cells": [
  {
   "cell_type": "code",
   "execution_count": 7,
   "id": "8521a1a0-48a2-4a96-9138-1701908a94f8",
   "metadata": {},
   "outputs": [],
   "source": [
    "import qrcode\n",
    "from PIL import Image, ImageDraw, ImageFont\n",
    "\n",
    "# choose your font\n",
    "font = ImageFont.truetype(\"/usr/share/fonts/TTF/Hack-Regular.ttf\", 16, encoding=\"unic\")\n",
    "\n",
    "# and how many QR codes you need\n",
    "n_racks = 10\n",
    "content = ['Rack%03d' % i for i in range(1, n_racks+1)]\n",
    "\n",
    "# distance in pixels between QR codes\n",
    "span = 20"
   ]
  },
  {
   "cell_type": "code",
   "execution_count": 28,
   "id": "f67521e4-5a96-4d92-8340-b547ea51ec5e",
   "metadata": {},
   "outputs": [],
   "source": [
    "def make_qr (text):\n",
    "    # Create qr code instance\n",
    "    qr = qrcode.QRCode(version=1, error_correction=qrcode.constants.ERROR_CORRECT_H, box_size=4, border=.2)\n",
    "    #create the first one\n",
    "    qr.add_data(text)\n",
    "    qr.make(fit=True)\n",
    "\n",
    "    # Create an image from the QR Code instance\n",
    "    qr_img = qr.make_image(fill_color='black', back_color='white')\n",
    "    qr_width, qr_height = qr_img.size\n",
    "    \n",
    "    canvas = Image.new(mode='RGBA', size=(qr_width, qr_height + 20), color='white')    \n",
    "                       \n",
    "    # Create an image for the text label\n",
    "    t = ImageDraw.Draw(canvas)\n",
    "    \n",
    "    # calculate text width so that we can center it under the QR code\n",
    "    text_width = font.getsize(text)[0]\n",
    "    t.text(((qr_width - text_width)/2 , qr_height+5), text, fill=(0,0,0,255), font=font)\n",
    "                       \n",
    "    canvas.paste(qr_img, (0,0))\n",
    "    return canvas\n",
    "    \n"
   ]
  },
  {
   "cell_type": "code",
   "execution_count": 29,
   "id": "ec4a1b70-5022-4c97-8ff6-e707d132374b",
   "metadata": {},
   "outputs": [],
   "source": [
    "# create all the images one by one\n",
    "single_images = [make_qr(text) for text in content]\n"
   ]
  },
  {
   "cell_type": "code",
   "execution_count": 30,
   "id": "0a090892-09e2-48f6-8506-2ac6839aa74d",
   "metadata": {},
   "outputs": [],
   "source": [
    "# Merge them all in one single image\n",
    "qr_width, qr_height = single_images[0].size\n",
    "strip = Image.new(mode='RGB', size=((qr_width + span) * (n_racks) - span, qr_height+span), color='white')\n",
    "\n",
    "for n, image in enumerate(single_images):\n",
    "    position = (n)*(qr_width+span)\n",
    "    strip.paste(image, (position, 0))\n",
    "    \n",
    "strip.save('adriano_qr_codes.png')"
   ]
  },
  {
   "cell_type": "code",
   "execution_count": 31,
   "id": "810b6e98-a540-4edd-8f49-66dbc4a50448",
   "metadata": {},
   "outputs": [
    {
     "data": {
      "image/png": "[encoded data removed]",
      "text/plain": [
       "<PIL.Image.Image image mode=RGB size=1020x124 at 0x7FE3F03106D0>"
      ]
     },
     "execution_count": 31,
     "metadata": {},
     "output_type": "execute_result"
    }
   ],
   "source": [
    "strip"
   ]
  },
  {
   "cell_type": "code",
   "execution_count": null,
   "id": "22f91d35-7394-4765-88f9-e3de7b5ebae2",
   "metadata": {},
   "outputs": [],
   "source": []
  }
 ],
 "metadata": {
  "kernelspec": {
   "display_name": "Python 3 (ipykernel)",
   "language": "python",
   "name": "python3"
  },
  "language_info": {
   "codemirror_mode": {
    "name": "ipython",
    "version": 3
   },
   "file_extension": ".py",
   "mimetype": "text/x-python",
   "name": "python",
   "nbconvert_exporter": "python",
   "pygments_lexer": "ipython3",
   "version": "3.9.7"
  }
 },
 "nbformat": 4,
 "nbformat_minor": 5
}
